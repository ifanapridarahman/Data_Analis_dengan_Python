{
  "nbformat": 4,
  "nbformat_minor": 0,
  "metadata": {
    "colab": {
      "provenance": []
    },
    "kernelspec": {
      "name": "python3",
      "display_name": "Python 3"
    },
    "language_info": {
      "name": "python"
    }
  },
  "cells": [
    {
      "cell_type": "markdown",
      "source": [
        "# Uji Hipotesis"
      ],
      "metadata": {
        "id": "eagMGCz2pl2E"
      }
    },
    {
      "cell_type": "markdown",
      "source": [
        "## Uji Kenormalan Distribusi Menggunakan Shapiro Test"
      ],
      "metadata": {
        "id": "KpU8ZWT2p9QF"
      }
    },
    {
      "cell_type": "markdown",
      "source": [
        "**Masalah** : Suatu gerai pizza ingin mengetahui apakah pizza yang dibuatnya memiliki diameter dengan distribusi normal"
      ],
      "metadata": {
        "id": "lnW-V5NAqTHa"
      }
    },
    {
      "cell_type": "code",
      "source": [
        "import pandas as pd\n",
        "data = pd.read_csv('diameter.csv')"
      ],
      "metadata": {
        "id": "SuHTd81n2t_p"
      },
      "execution_count": null,
      "outputs": []
    },
    {
      "cell_type": "code",
      "source": [
        "H0 = 'Data is normal'\n",
        "Ha = 'Data is not normal'"
      ],
      "metadata": {
        "id": "0yPkHxdi2xTt"
      },
      "execution_count": null,
      "outputs": []
    },
    {
      "cell_type": "code",
      "source": [
        "alpha = 0.05"
      ],
      "metadata": {
        "id": "aJOyR1ib2zQQ"
      },
      "execution_count": null,
      "outputs": []
    },
    {
      "cell_type": "code",
      "source": [
        "from scipy.stats import shapiro\n",
        "p = round(shapiro(data)[1], 2)\n",
        "\n",
        "if p > alpha:\n",
        "  print(f\"{p} > {alpha}. We fail to reject Null Hypothesis. {H0}\")\n",
        "else:\n",
        "\tprint(f\"{p} <= {alpha}. We reject Null Hypothesis. {Ha}\")"
      ],
      "metadata": {
        "colab": {
          "base_uri": "https://localhost:8080/"
        },
        "id": "lee3bZ7422zM",
        "outputId": "3f1c3ebf-bed7-4e27-9677-95b707f8b0d1"
      },
      "execution_count": null,
      "outputs": [
        {
          "output_type": "stream",
          "name": "stdout",
          "text": [
            "0.52 > 0.05. We fail to reject Null Hypothesis. Data is normal\n"
          ]
        }
      ]
    },
    {
      "cell_type": "markdown",
      "source": [
        "## Uji Perbedaan Rata-Rata dari Dua Kelompok Berbeda"
      ],
      "metadata": {
        "id": "aMMJCuS2qwlJ"
      }
    },
    {
      "cell_type": "markdown",
      "source": [
        "**Masalah** : Sebuah perusahaan pizza telah memiliki dua gerai di kota Bandung. Perusahaan tersebut ingin mengetahui apakah terdapat perbedaan signifikan untuk diameter pizza di kedua gerai yang dimilikinya"
      ],
      "metadata": {
        "id": "Q7Xwo-Jx1x-P"
      }
    },
    {
      "cell_type": "code",
      "source": [
        "import pandas as pd\n",
        "pizzas = pd.read_csv('pizzas.csv')"
      ],
      "metadata": {
        "id": "e9aBc9Xt2Qwh"
      },
      "execution_count": null,
      "outputs": []
    },
    {
      "cell_type": "markdown",
      "source": [
        "### Uji normalitas kedua kelompok"
      ],
      "metadata": {
        "id": "kG_54BqO2Yg1"
      }
    },
    {
      "cell_type": "code",
      "source": [
        "alpha = 0.05\n",
        "# Defining Null and Alternative Hypotheses\n",
        "H0 = 'data is Normally distributed'\n",
        "Ha = 'data is not Normally distributed'\n",
        "\n",
        "from scipy.stats import shapiro\n",
        "\n",
        "def check_normality(df):\n",
        "  for columnName, columnData in pizzas.iteritems():\n",
        "    print('n' + \"*** Shapiro Test Results of '{}' ***\".format(columnName))\n",
        "    p = round(shapiro(columnData.values)[1], 2)\n",
        "    if p>alpha:\n",
        "      print(f\"{p} > {alpha}. We fail to reject Null Hypothesis. '{columnName}' {H0}\")\n",
        "    else:\n",
        "      print(f\"{p} <= {alpha}. We reject Null Hypothesis. '{columnName}' {Ha}\")\n",
        "check_normality(pizzas)"
      ],
      "metadata": {
        "colab": {
          "base_uri": "https://localhost:8080/"
        },
        "id": "8F5fps2BqnPq",
        "outputId": "04bb514e-2995-4039-f4fe-f68a2dbd81e7"
      },
      "execution_count": null,
      "outputs": [
        {
          "output_type": "stream",
          "name": "stdout",
          "text": [
            "n*** Shapiro Test Results of 'Making Unit 1' ***\n",
            "0.32 > 0.05. We fail to reject Null Hypothesis. 'Making Unit 1' data is Normally distributed\n",
            "n*** Shapiro Test Results of 'Making Unit 2' ***\n",
            "0.52 > 0.05. We fail to reject Null Hypothesis. 'Making Unit 2' data is Normally distributed\n"
          ]
        }
      ]
    },
    {
      "cell_type": "markdown",
      "source": [
        "### Uji variansi kedua kelompok"
      ],
      "metadata": {
        "id": "K946N-uo3G4L"
      }
    },
    {
      "cell_type": "code",
      "source": [
        "H0 = 'Variance of Unit A is approximately equal to Variance of Unit B'\n",
        "Ha = 'Variance of Unit A is not equal to Variance of Unit B'\n",
        "\n",
        "from scipy.stats import levene\n",
        "\n",
        "def check_variances(df):\n",
        "  print('n' + \"*** Variances Test Results' ***\")\n",
        "  p = round(levene(pizzas['Making Unit 1'], pizzas['Making Unit 1'])[1],2)\n",
        "  if p>alpha:\n",
        "    print(f\"{p} > {alpha}. We fail to reject Null Hypothesis. {H0}\")\n",
        "  else:\n",
        "    print(f\"{p} <= {alpha}. We reject Null Hypothesis. {Ha}\")\n",
        "\n",
        "check_variances(pizzas)"
      ],
      "metadata": {
        "colab": {
          "base_uri": "https://localhost:8080/"
        },
        "id": "wa953Mpl2rZ-",
        "outputId": "ceb101b4-99b3-4ca9-f4a7-b99e6b6671a2"
      },
      "execution_count": null,
      "outputs": [
        {
          "output_type": "stream",
          "name": "stdout",
          "text": [
            "n*** Variances Test Results' ***\n",
            "1.0 > 0.05. We fail to reject Null Hypothesis. Variance of Unit A is approximately equal to Variance of Unit B\n"
          ]
        }
      ]
    },
    {
      "cell_type": "markdown",
      "source": [
        "### 2 Sample t-Test for Equal Variance"
      ],
      "metadata": {
        "id": "gAh3YNsQ4Gvp"
      }
    },
    {
      "cell_type": "code",
      "source": [
        "H0 = 'There is no significant difference.'\n",
        "Ha = 'There exist a significant difference.'\n",
        "\n",
        "from scipy.stats import ttest_ind\n",
        "\n",
        "def t_test(df):\n",
        "\n",
        "  print('n' + \"*** 2 Sample T Test Results ***\")\n",
        "  test_results = ttest_ind(pizzas['Making Unit 1'], pizzas['Making Unit 1'], equal_var=True)\n",
        "  p = round(test_results[1],2)\n",
        "\n",
        "  if p>alpha:\n",
        "    print(f\"{p} > {alpha}. We fail to reject Null Hypothesis. {H0}\")\n",
        "  else:\n",
        "    print(f\"{p} <= {alpha}. We reject Null Hypothesis. {Ha}\")\n",
        "\n",
        "t_test(pizzas)"
      ],
      "metadata": {
        "colab": {
          "base_uri": "https://localhost:8080/"
        },
        "id": "iMqr6Bw24Nm7",
        "outputId": "d8c67b9f-4287-4648-c4b1-de17e7da2f92"
      },
      "execution_count": null,
      "outputs": [
        {
          "output_type": "stream",
          "name": "stdout",
          "text": [
            "n*** 2 Sample T Test Results ***\n",
            "1.0 > 0.05. We fail to reject Null Hypothesis. There is no significant difference.\n"
          ]
        }
      ]
    }
  ]
}