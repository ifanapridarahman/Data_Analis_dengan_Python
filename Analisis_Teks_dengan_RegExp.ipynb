{
  "nbformat": 4,
  "nbformat_minor": 0,
  "metadata": {
    "colab": {
      "provenance": []
    },
    "kernelspec": {
      "name": "python3",
      "display_name": "Python 3"
    },
    "language_info": {
      "name": "python"
    }
  },
  "cells": [
    {
      "cell_type": "markdown",
      "source": [
        "#Regular Expression (RegExp)"
      ],
      "metadata": {
        "id": "0tyWg06HKCBk"
      }
    },
    {
      "cell_type": "code",
      "execution_count": null,
      "metadata": {
        "id": "AG27In6BJ8D2"
      },
      "outputs": [],
      "source": [
        "import re"
      ]
    },
    {
      "cell_type": "code",
      "source": [
        "#Mencari data menggunakan RegExp\n",
        "re.match(r'\\b\\w{5}\\b', 'Andri and Fatia')\n",
        "\n",
        "#Mencari tahu huruf dari 'Andri dan Fatia' yang mengandung 5 kata\n",
        "#Tapi kan Fatia juga 5 huruf? Karna fungsi match hanya mengembalikan nilai yang pertama kali muncul"
      ],
      "metadata": {
        "colab": {
          "base_uri": "https://localhost:8080/"
        },
        "id": "LsyDpbNnKGlx",
        "outputId": "f5236d8d-e45d-4c6a-d10c-557d951ec5a7"
      },
      "execution_count": null,
      "outputs": [
        {
          "output_type": "execute_result",
          "data": {
            "text/plain": [
              "<re.Match object; span=(0, 5), match='Andri'>"
            ]
          },
          "metadata": {},
          "execution_count": 3
        }
      ]
    },
    {
      "cell_type": "code",
      "source": [
        "#Mencari data menggunakan RegExp\n",
        "re.search(r'\\b\\w{5}\\b', 'Andri and Fatia')\n",
        "\n",
        "#Mencari tahu huruf dari 'Andri dan Fatia' yang mengandung 5 kata\n",
        "#Tapi kan Fatia juga 5 huruf? Karna fungsi search hanya mengembalikan nilai yang pertama kali muncul"
      ],
      "metadata": {
        "colab": {
          "base_uri": "https://localhost:8080/"
        },
        "id": "T-g9p9eVKRPg",
        "outputId": "562a1f7a-838d-4a41-a7b5-4643a44545cb"
      },
      "execution_count": null,
      "outputs": [
        {
          "output_type": "execute_result",
          "data": {
            "text/plain": [
              "<re.Match object; span=(0, 5), match='Andri'>"
            ]
          },
          "metadata": {},
          "execution_count": 5
        }
      ]
    },
    {
      "cell_type": "code",
      "source": [
        "#Mencari data menggunakan RegExp\n",
        "re.findall(r'\\b\\w{5}\\b', 'Andri and Fatia')"
      ],
      "metadata": {
        "colab": {
          "base_uri": "https://localhost:8080/"
        },
        "id": "DaaNdzxIKxGD",
        "outputId": "00b289cd-d888-489c-d266-26458a4debf9"
      },
      "execution_count": null,
      "outputs": [
        {
          "output_type": "execute_result",
          "data": {
            "text/plain": [
              "['Andri', 'Fatia']"
            ]
          },
          "metadata": {},
          "execution_count": 6
        }
      ]
    },
    {
      "cell_type": "code",
      "source": [
        "#Replace Data\n",
        "S = \"User's mobile number is 1234567890\"\n",
        "\n",
        "S_hide = re.sub('\\d', '*', S) #Mengganti data angka (\\d) dengan bintang yang ada di S\n",
        "print(S_hide)"
      ],
      "metadata": {
        "colab": {
          "base_uri": "https://localhost:8080/"
        },
        "id": "XYaBatqXK9e8",
        "outputId": "f0b39f30-8ca0-471d-da10-7d475bf13ff4"
      },
      "execution_count": null,
      "outputs": [
        {
          "output_type": "stream",
          "name": "stdout",
          "text": [
            "User's mobile number is **********\n"
          ]
        }
      ]
    },
    {
      "cell_type": "code",
      "source": [
        "#Data Validator\n",
        "user_name = input(\"Please enter your name: \")\n",
        "\n",
        "while not re.match(\"^[A-Za-z]+$\", user_name):\n",
        "  print(\"Error! Make sure you only use letters in your name\")\n",
        "  user_name = input(\"Please enter your name: \")\n",
        "\n",
        "print(\"Hello!\" + user_name)"
      ],
      "metadata": {
        "colab": {
          "base_uri": "https://localhost:8080/"
        },
        "id": "XvDjGThJLSYv",
        "outputId": "229a5f83-0867-4f8a-fae7-3fd01d71ff2d"
      },
      "execution_count": null,
      "outputs": [
        {
          "output_type": "stream",
          "name": "stdout",
          "text": [
            "Please enter your name: 1\n",
            "Error! Make sure you only use letters in your name\n",
            "Please enter your name: Ifan\n",
            "Hello!Ifan\n"
          ]
        }
      ]
    },
    {
      "cell_type": "markdown",
      "source": [
        "##Fuzzy Wuzzy"
      ],
      "metadata": {
        "id": "1UvggSvENczg"
      }
    },
    {
      "cell_type": "code",
      "source": [
        " pip install fuzzywuzzy"
      ],
      "metadata": {
        "colab": {
          "base_uri": "https://localhost:8080/"
        },
        "id": "XawAAJQIL2sB",
        "outputId": "fda88543-9114-4329-9b22-36aebf4d2d61"
      },
      "execution_count": null,
      "outputs": [
        {
          "output_type": "stream",
          "name": "stdout",
          "text": [
            "Collecting fuzzywuzzy\n",
            "  Downloading fuzzywuzzy-0.18.0-py2.py3-none-any.whl.metadata (4.9 kB)\n",
            "Downloading fuzzywuzzy-0.18.0-py2.py3-none-any.whl (18 kB)\n",
            "Installing collected packages: fuzzywuzzy\n",
            "Successfully installed fuzzywuzzy-0.18.0\n"
          ]
        }
      ]
    },
    {
      "cell_type": "code",
      "source": [
        "from fuzzywuzzy import fuzz"
      ],
      "metadata": {
        "colab": {
          "base_uri": "https://localhost:8080/"
        },
        "id": "E53hFdcqNqWH",
        "outputId": "012c4c59-fed3-46c1-881b-6efaa13fd503"
      },
      "execution_count": null,
      "outputs": [
        {
          "output_type": "stream",
          "name": "stderr",
          "text": [
            "/usr/local/lib/python3.10/dist-packages/fuzzywuzzy/fuzz.py:11: UserWarning: Using slow pure-python SequenceMatcher. Install python-Levenshtein to remove this warning\n",
            "  warnings.warn('Using slow pure-python SequenceMatcher. Install python-Levenshtein to remove this warning')\n"
          ]
        }
      ]
    },
    {
      "cell_type": "code",
      "source": [
        "text1 = 'The quick brown forx jumps over the lazy dogs'\n",
        "text2 = 'The quick brown forx jumps over the lazy dogs.'\n",
        "\n",
        "similarity = fuzz.partial_ratio(text1,text2)\n",
        "print(similarity)"
      ],
      "metadata": {
        "colab": {
          "base_uri": "https://localhost:8080/"
        },
        "id": "ZlBqO0K3Ntz6",
        "outputId": "629da156-92db-4f5e-9f28-8f04d84fe1ef"
      },
      "execution_count": null,
      "outputs": [
        {
          "output_type": "stream",
          "name": "stdout",
          "text": [
            "100\n"
          ]
        }
      ]
    },
    {
      "cell_type": "code",
      "source": [
        "str1 = \"My name is Ali\"\n",
        "str2 = \"Ali is my name\"\n",
        "\n",
        "Ratio = fuzz.ratio(str1,str2)\n",
        "print(Ratio)"
      ],
      "metadata": {
        "colab": {
          "base_uri": "https://localhost:8080/"
        },
        "id": "PVV8I74QOA2k",
        "outputId": "11fc98c7-cc84-42a5-8853-3993d5afa65b"
      },
      "execution_count": null,
      "outputs": [
        {
          "output_type": "stream",
          "name": "stdout",
          "text": [
            "43\n"
          ]
        }
      ]
    },
    {
      "cell_type": "code",
      "source": [
        "Str1 = \"My name is Ali\"\n",
        "Str2 = \"My name is Ali Abdaal\"\n",
        "\n",
        "print(fuzz.partial_ratio(Str1,Str2))"
      ],
      "metadata": {
        "colab": {
          "base_uri": "https://localhost:8080/"
        },
        "id": "Bo4thtm4OOZj",
        "outputId": "dd12bfe6-8dc7-4544-877a-a604f65c3990"
      },
      "execution_count": null,
      "outputs": [
        {
          "output_type": "stream",
          "name": "stdout",
          "text": [
            "100\n"
          ]
        }
      ]
    },
    {
      "cell_type": "code",
      "source": [
        "str1 = \"My name is Ali\"\n",
        "str2 = \"Ali is my name\"\n",
        "\n",
        "print(fuzz.token_sort_ratio(str1,str2))\n",
        "\n",
        "#Melihat kata dari setiap token, dan data tidak harus berurutan"
      ],
      "metadata": {
        "colab": {
          "base_uri": "https://localhost:8080/"
        },
        "id": "2mXG8IGFOi-i",
        "outputId": "ec17e68b-503b-4de6-9eb2-56fe691e5ca1"
      },
      "execution_count": null,
      "outputs": [
        {
          "output_type": "stream",
          "name": "stdout",
          "text": [
            "100\n"
          ]
        }
      ]
    },
    {
      "cell_type": "code",
      "source": [
        "str1 = \"My name is Ali\"\n",
        "str2 = \"Ali is my name name\"\n",
        "\n",
        "print(fuzz.token_sort_ratio(str1,str2))\n",
        "print(fuzz.token_set_ratio(str1,str2))"
      ],
      "metadata": {
        "colab": {
          "base_uri": "https://localhost:8080/"
        },
        "id": "GOYNchQhOrQ5",
        "outputId": "0609ce67-592d-4713-f893-cbb3a3090c08"
      },
      "execution_count": null,
      "outputs": [
        {
          "output_type": "stream",
          "name": "stdout",
          "text": [
            "85\n",
            "100\n"
          ]
        }
      ]
    },
    {
      "cell_type": "code",
      "source": [
        "str_A = 'Read the sentence - My name is Ali'\n",
        "str_B = 'My name is Ali'\n",
        "\n",
        "ratio = fuzz.token_set_ratio(str_A, str_B)\n",
        "print(ratio)"
      ],
      "metadata": {
        "colab": {
          "base_uri": "https://localhost:8080/"
        },
        "id": "ycZH6_ckO-dZ",
        "outputId": "99297749-6882-427c-9056-3ddc49f6f064"
      },
      "execution_count": null,
      "outputs": [
        {
          "output_type": "stream",
          "name": "stdout",
          "text": [
            "100\n"
          ]
        }
      ]
    },
    {
      "cell_type": "code",
      "source": [
        "from fuzzywuzzy import process\n",
        "query = 'My name is Ali'\n",
        "choices = ['My name Ali', 'My name is Ali', 'My Ali']\n",
        "\n",
        "process.extract(query, choices)"
      ],
      "metadata": {
        "colab": {
          "base_uri": "https://localhost:8080/"
        },
        "id": "-BCgHs0XPQes",
        "outputId": "8965ba8a-12e6-4c04-bca3-0473a921d464"
      },
      "execution_count": null,
      "outputs": [
        {
          "output_type": "execute_result",
          "data": {
            "text/plain": [
              "[('My name is Ali', 100), ('My name Ali', 95), ('My Ali', 86)]"
            ]
          },
          "metadata": {},
          "execution_count": 22
        }
      ]
    },
    {
      "cell_type": "markdown",
      "source": [
        "#Pada sebuah data Frame"
      ],
      "metadata": {
        "id": "9dU2DJ9FQwIM"
      }
    },
    {
      "cell_type": "code",
      "source": [
        "import pandas as pd\n",
        "\n",
        "#Membuat dataframe\n",
        "dict_one = {\n",
        "    \"country\" : [\"England\", \"Scotland\", \"Wales\", \"United Kingdom\", \"Northern Ireland\"],\n",
        "    \"poppulation_in_million\" : [55.98, 5.45, 3.14, 67.33, 1.89]\n",
        "}\n",
        "dict_two = {\n",
        "    \"country\" : [\"Northern Iland\", \"Wles\", \"Scotlnd\", \"Englnd\", \"United K.\"],\n",
        "    \"GDP_per_capita\" : [24900, 23882, 37460, 45101, 46510.28]\n",
        "}\n",
        "\n",
        "existing_data = pd.DataFrame(dict_one)\n",
        "exported_data = pd.DataFrame(dict_two)\n",
        "\n",
        "print(existing_data, exported_data, sep=\"\\n\\n\")"
      ],
      "metadata": {
        "colab": {
          "base_uri": "https://localhost:8080/"
        },
        "id": "5hQnn0vjPev3",
        "outputId": "586d01e7-1664-41e0-a586-9cbafffe917e"
      },
      "execution_count": null,
      "outputs": [
        {
          "output_type": "stream",
          "name": "stdout",
          "text": [
            "            country  poppulation_in_million\n",
            "0           England                   55.98\n",
            "1          Scotland                    5.45\n",
            "2             Wales                    3.14\n",
            "3    United Kingdom                   67.33\n",
            "4  Northern Ireland                    1.89\n",
            "\n",
            "          country  GDP_per_capita\n",
            "0  Northern Iland        24900.00\n",
            "1            Wles        23882.00\n",
            "2         Scotlnd        37460.00\n",
            "3          Englnd        45101.00\n",
            "4       United K.        46510.28\n"
          ]
        }
      ]
    },
    {
      "cell_type": "code",
      "source": [
        "data = pd.merge(existing_data, exported_data, on=\"country\", how=\"left\")\n",
        "print(data.head())"
      ],
      "metadata": {
        "colab": {
          "base_uri": "https://localhost:8080/"
        },
        "id": "OeC3Bh1uQjXE",
        "outputId": "05614879-563b-45be-d832-a891123555ce"
      },
      "execution_count": null,
      "outputs": [
        {
          "output_type": "stream",
          "name": "stdout",
          "text": [
            "            country  poppulation_in_million  GDP_per_capita\n",
            "0           England                   55.98             NaN\n",
            "1          Scotland                    5.45             NaN\n",
            "2             Wales                    3.14             NaN\n",
            "3    United Kingdom                   67.33             NaN\n",
            "4  Northern Ireland                    1.89             NaN\n"
          ]
        }
      ]
    },
    {
      "cell_type": "code",
      "source": [
        "#Rename the misspelled columns\n",
        "exported_data[\"country\"] = exported_data[\"country\"].apply(\n",
        "    lambda x: process.extractOne(x, existing_data[\"country\"], scorer = fuzz.partial_ratio)[0]\n",
        ")\n",
        "\n",
        "#Attempt to join the two dataframe\n",
        "data = pd.merge(existing_data, exported_data, on=\"country\", how=\"left\")\n",
        "print(data.head())"
      ],
      "metadata": {
        "colab": {
          "base_uri": "https://localhost:8080/"
        },
        "id": "8acLNwVmQ8jK",
        "outputId": "987e85df-37ff-4371-cc64-4b50edb8e297"
      },
      "execution_count": null,
      "outputs": [
        {
          "output_type": "stream",
          "name": "stdout",
          "text": [
            "            country  poppulation_in_million  GDP_per_capita\n",
            "0           England                   55.98        45101.00\n",
            "1          Scotland                    5.45        37460.00\n",
            "2             Wales                    3.14        23882.00\n",
            "3    United Kingdom                   67.33        46510.28\n",
            "4  Northern Ireland                    1.89        24900.00\n"
          ]
        }
      ]
    },
    {
      "cell_type": "markdown",
      "source": [
        "#Sentimen Analysis"
      ],
      "metadata": {
        "id": "s_BoU2UrRqRy"
      }
    },
    {
      "cell_type": "code",
      "source": [
        "from textblob import TextBlob\n",
        "\n",
        "text_1 = \"The movie was so awesome\"\n",
        "text_2 = \"The food here tastes terrible\"\n",
        "\n",
        "#Determining the polarity\n",
        "p_1 = TextBlob(text_1).sentiment.polarity\n",
        "p_2 = TextBlob(text_2).sentiment.polarity\n",
        "\n",
        "#Determining the Subjectivity\n",
        "s_1 = TextBlob(text_1).sentiment.subjectivity\n",
        "s_2 = TextBlob(text_2).sentiment.subjectivity\n",
        "\n",
        "print(\"Polarity of Text 1 is:\", p_1)\n",
        "print(\"Polarity of Text 2 is:\", p_2)\n",
        "print()\n",
        "print(\"Subjectivity of text 1 is:\", s_1)\n",
        "print(\"Subjectivity of text 2 is:\", s_2)"
      ],
      "metadata": {
        "colab": {
          "base_uri": "https://localhost:8080/"
        },
        "id": "nt_uKhfGRh1v",
        "outputId": "259d68fe-a0e5-4d9f-eea3-a13460af6da7"
      },
      "execution_count": null,
      "outputs": [
        {
          "output_type": "stream",
          "name": "stdout",
          "text": [
            "Polarity of Text 1 is: 1.0\n",
            "Polarity of Text 2 is: -1.0\n",
            "\n",
            "Subjectivity of text 1 is: 1.0\n",
            "Subjectivity of text 2 is: 1.0\n"
          ]
        }
      ]
    },
    {
      "cell_type": "code",
      "source": [
        "pip install vaderSentiment"
      ],
      "metadata": {
        "colab": {
          "base_uri": "https://localhost:8080/"
        },
        "id": "et_AGIAwSj3c",
        "outputId": "d05e434a-d49a-4809-caed-c021eaf5f6f0"
      },
      "execution_count": null,
      "outputs": [
        {
          "output_type": "stream",
          "name": "stdout",
          "text": [
            "Collecting vaderSentiment\n",
            "  Downloading vaderSentiment-3.3.2-py2.py3-none-any.whl.metadata (572 bytes)\n",
            "Requirement already satisfied: requests in /usr/local/lib/python3.10/dist-packages (from vaderSentiment) (2.32.3)\n",
            "Requirement already satisfied: charset-normalizer<4,>=2 in /usr/local/lib/python3.10/dist-packages (from requests->vaderSentiment) (3.4.0)\n",
            "Requirement already satisfied: idna<4,>=2.5 in /usr/local/lib/python3.10/dist-packages (from requests->vaderSentiment) (3.10)\n",
            "Requirement already satisfied: urllib3<3,>=1.21.1 in /usr/local/lib/python3.10/dist-packages (from requests->vaderSentiment) (2.2.3)\n",
            "Requirement already satisfied: certifi>=2017.4.17 in /usr/local/lib/python3.10/dist-packages (from requests->vaderSentiment) (2024.8.30)\n",
            "Downloading vaderSentiment-3.3.2-py2.py3-none-any.whl (125 kB)\n",
            "\u001b[?25l   \u001b[90m━━━━━━━━━━━━━━━━━━━━━━━━━━━━━━━━━━━━━━━━\u001b[0m \u001b[32m0.0/126.0 kB\u001b[0m \u001b[31m?\u001b[0m eta \u001b[36m-:--:--\u001b[0m\r\u001b[2K   \u001b[91m━━━━━━━━━━━━━━━━━━━━━━━━━━━━━━━━━━━━━━━\u001b[0m\u001b[90m╺\u001b[0m \u001b[32m122.9/126.0 kB\u001b[0m \u001b[31m4.3 MB/s\u001b[0m eta \u001b[36m0:00:01\u001b[0m\r\u001b[2K   \u001b[90m━━━━━━━━━━━━━━━━━━━━━━━━━━━━━━━━━━━━━━━━\u001b[0m \u001b[32m126.0/126.0 kB\u001b[0m \u001b[31m2.7 MB/s\u001b[0m eta \u001b[36m0:00:00\u001b[0m\n",
            "\u001b[?25hInstalling collected packages: vaderSentiment\n",
            "Successfully installed vaderSentiment-3.3.2\n"
          ]
        }
      ]
    },
    {
      "cell_type": "code",
      "source": [
        "from vaderSentiment.vaderSentiment import SentimentIntensityAnalyzer\n",
        "sentiment = SentimentIntensityAnalyzer()\n",
        "text_1 = \"The book was a perfect balance between writing style and plot.\"\n",
        "text_2 = \"The pizza tastes terrible\"\n",
        "\n",
        "sent_1 = sentiment.polarity_scores(text_1)\n",
        "sent_2 = sentiment.polarity_scores(text_2)\n",
        "print(\"Sentimen of text 1: \", sent_1)\n",
        "print()\n",
        "print(\"Sentimen of text 2: \", sent_2)"
      ],
      "metadata": {
        "colab": {
          "base_uri": "https://localhost:8080/"
        },
        "id": "AuccpL5wS6j0",
        "outputId": "04d09732-fec3-4130-b654-ba6b156d82e0"
      },
      "execution_count": null,
      "outputs": [
        {
          "output_type": "stream",
          "name": "stdout",
          "text": [
            "Sentimen of text 1:  {'neg': 0.0, 'neu': 0.73, 'pos': 0.27, 'compound': 0.5719}\n",
            "\n",
            "Sentimen of text 2:  {'neg': 0.508, 'neu': 0.492, 'pos': 0.0, 'compound': -0.4767}\n"
          ]
        }
      ]
    },
    {
      "cell_type": "markdown",
      "source": [
        "# Name Entity Recognition (NER)"
      ],
      "metadata": {
        "id": "qwUR42GQTkDK"
      }
    },
    {
      "cell_type": "code",
      "source": [
        "import spacy\n",
        "from spacy import displacy\n",
        "\n",
        "NER = spacy.load(\"en_core_web_sm\")"
      ],
      "metadata": {
        "id": "TFh_w1C7Te2B"
      },
      "execution_count": null,
      "outputs": []
    },
    {
      "cell_type": "code",
      "source": [
        "raw_text = \"The Indian Space Research Organization or is the national space agency of India, headquartered in Bengaluru. It operates under Department of Space which is directily\""
      ],
      "metadata": {
        "id": "lGKaNO49T4mb"
      },
      "execution_count": null,
      "outputs": []
    },
    {
      "cell_type": "code",
      "source": [
        "raw_text2 = \"The Mars Orbiter Mission (MOM), informally known as Mangalyaan, was launched intro orbit on 5 November\""
      ],
      "metadata": {
        "id": "gjwabfDkULq-"
      },
      "execution_count": null,
      "outputs": []
    },
    {
      "cell_type": "code",
      "source": [
        "text1 = NER(raw_text)\n",
        "text1"
      ],
      "metadata": {
        "colab": {
          "base_uri": "https://localhost:8080/"
        },
        "id": "qKuqWWI4UYNn",
        "outputId": "c93b144f-0c1d-4a5b-e255-02a07c7239df"
      },
      "execution_count": null,
      "outputs": [
        {
          "output_type": "execute_result",
          "data": {
            "text/plain": [
              "The Indian Space Research Organization or is the national space agency of India, headquartered in Bengaluru. It operates under Department of Space which is directily"
            ]
          },
          "metadata": {},
          "execution_count": 35
        }
      ]
    },
    {
      "cell_type": "code",
      "source": [
        "text2 = NER(raw_text2)\n",
        "text2"
      ],
      "metadata": {
        "colab": {
          "base_uri": "https://localhost:8080/"
        },
        "id": "ZkrlZybaUeNV",
        "outputId": "8e58834d-8435-47e0-f325-414c9ee2349a"
      },
      "execution_count": null,
      "outputs": [
        {
          "output_type": "execute_result",
          "data": {
            "text/plain": [
              "The Mars orbiter Mission (MOM), informally known as Mangalyaan, was launched intro orbit on 5 November"
            ]
          },
          "metadata": {},
          "execution_count": 37
        }
      ]
    },
    {
      "cell_type": "code",
      "source": [
        "for word in text1.ents:\n",
        "  print(word.text, word.label_)"
      ],
      "metadata": {
        "colab": {
          "base_uri": "https://localhost:8080/"
        },
        "id": "6_vo0PhOUlbf",
        "outputId": "c3b59da3-b15e-4c32-b0ac-4cb52b0040d7"
      },
      "execution_count": null,
      "outputs": [
        {
          "output_type": "stream",
          "name": "stdout",
          "text": [
            "The Indian Space Research Organization ORG\n",
            "India GPE\n",
            "Bengaluru GPE\n",
            "Department of Space ORG\n"
          ]
        }
      ]
    },
    {
      "cell_type": "code",
      "source": [
        "for word in text2.ents:\n",
        "  print(word.text, word.label_)"
      ],
      "metadata": {
        "colab": {
          "base_uri": "https://localhost:8080/"
        },
        "id": "nD0upYXRUs78",
        "outputId": "7ace6eaf-967e-4f71-8d66-e2d9c74f5b13"
      },
      "execution_count": null,
      "outputs": [
        {
          "output_type": "stream",
          "name": "stdout",
          "text": [
            "Mars LOC\n",
            "Mangalyaan PERSON\n",
            "intro ORG\n",
            "5 November DATE\n"
          ]
        }
      ]
    },
    {
      "cell_type": "code",
      "source": [
        "displacy.render(text2, style=\"ent\", jupyter=True)"
      ],
      "metadata": {
        "colab": {
          "base_uri": "https://localhost:8080/",
          "height": 87
        },
        "id": "sNfsNrDhU0Ln",
        "outputId": "d16b8c0c-4e08-4a7a-9a70-fa14a6f947d7"
      },
      "execution_count": null,
      "outputs": [
        {
          "output_type": "display_data",
          "data": {
            "text/plain": [
              "<IPython.core.display.HTML object>"
            ],
            "text/html": [
              "<span class=\"tex2jax_ignore\"><div class=\"entities\" style=\"line-height: 2.5; direction: ltr\">The \n",
              "<mark class=\"entity\" style=\"background: #ff9561; padding: 0.45em 0.6em; margin: 0 0.25em; line-height: 1; border-radius: 0.35em;\">\n",
              "    Mars\n",
              "    <span style=\"font-size: 0.8em; font-weight: bold; line-height: 1; border-radius: 0.35em; vertical-align: middle; margin-left: 0.5rem\">LOC</span>\n",
              "</mark>\n",
              " orbiter Mission (MOM), informally known as \n",
              "<mark class=\"entity\" style=\"background: #aa9cfc; padding: 0.45em 0.6em; margin: 0 0.25em; line-height: 1; border-radius: 0.35em;\">\n",
              "    Mangalyaan\n",
              "    <span style=\"font-size: 0.8em; font-weight: bold; line-height: 1; border-radius: 0.35em; vertical-align: middle; margin-left: 0.5rem\">PERSON</span>\n",
              "</mark>\n",
              ", was launched \n",
              "<mark class=\"entity\" style=\"background: #7aecec; padding: 0.45em 0.6em; margin: 0 0.25em; line-height: 1; border-radius: 0.35em;\">\n",
              "    intro\n",
              "    <span style=\"font-size: 0.8em; font-weight: bold; line-height: 1; border-radius: 0.35em; vertical-align: middle; margin-left: 0.5rem\">ORG</span>\n",
              "</mark>\n",
              " orbit on \n",
              "<mark class=\"entity\" style=\"background: #bfe1d9; padding: 0.45em 0.6em; margin: 0 0.25em; line-height: 1; border-radius: 0.35em;\">\n",
              "    5 November\n",
              "    <span style=\"font-size: 0.8em; font-weight: bold; line-height: 1; border-radius: 0.35em; vertical-align: middle; margin-left: 0.5rem\">DATE</span>\n",
              "</mark>\n",
              "</div></span>"
            ]
          },
          "metadata": {}
        }
      ]
    },
    {
      "cell_type": "markdown",
      "source": [
        "Mengelompokkan mana daerah, mana nama orang, wilayah, tanggal"
      ],
      "metadata": {
        "id": "3jRn-_FkVIBz"
      }
    },
    {
      "cell_type": "code",
      "source": [],
      "metadata": {
        "id": "oeNqck3oVDH9"
      },
      "execution_count": null,
      "outputs": []
    }
  ]
}